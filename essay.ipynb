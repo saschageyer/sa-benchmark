{
 "cells": [
  {
   "cell_type": "markdown",
   "id": "27fa68ae-687b-4082-bb3d-6ab26b0c2d5b",
   "metadata": {},
   "source": [
    "## Sentiment Analysis: benchmarking state-of-the-art classifiers"
   ]
  },
  {
   "cell_type": "markdown",
   "id": "a171b2ae-0f7f-4590-a943-300e1aabbbd6",
   "metadata": {},
   "source": [
    "### Introduction\n",
    "\n",
    "What is Sentiment Analysis?\n",
    "- NLP frame, one of many NLP tasks\n",
    "- Definition: extract subjective information to determine polarity\n",
    "- areas of application (e. g. user generated content)\n",
    "- research timeline for SA/ deep learning in NLP (starting 2010s)"
   ]
  },
  {
   "cell_type": "markdown",
   "id": "94a6f362",
   "metadata": {},
   "source": [
    "The growth of user-generated content in web sites and social networks, e.g. Twitter, Amazon, Tripadvisor, Rottentomatoes and IMDB has led to an increasing power for expressing opinions. In recent years, the automatic extraction of opinions from a text has become an area of growing interest. Combined with the fast spreading nature of online content, online opinions have turned into a valuable asset. In order to analyze the massive amount of information, many Natural Language Processing (NLP) tasks are being used. In particular, Sentiment Analysis (SA), also known as Opinion Mining (from now on: SA), became an increasingly growing task (Liu, 2015), whose goal it is to classify opinions and sentiments expressed in user-generated text. SA is on the rise due to the increased requirement of analyzing and structuring hidden information, which comes from social media in the form of unstructured data (Ain, Ali, Riaz, Noureen, Kamran, Hayat & Rehman, 2017). SA allows to detect emotions and sentiment that the author of a text felt towards a described subject or entity. It is interesting in many fields and branches and helps solving various tasks, e.g.:\n",
    "\n",
    "- companies can measure the feedback about a product or service,\n",
    "- sociologists can look at people’s reaction about public events,\n",
    "- psychologists can study the general mind state of communities with regard to various\n",
    "issues, i.e. a depression detection model that is based on SA in micro-blog social\n",
    "networks (Wang, Zhang, Ji, Sun, Wu & Bao, 2013),\n",
    "- governments and political parties are able to correct their actions according to social\n",
    "approval or disapproval,\n",
    "- etc.\n",
    "\n",
    "Sentiments are not always expressed explicitly and meanings can be hidden in the context, where additional word and language knowledge is necessary. Moreover, opinions may involve sarcasm and negations, which can be interpreted differently in various domains and contexts. Sentiment classification is rather easy for humans (Pang, Lee & Vaithyanathan, 2002), but manual review and analysis of texts is very time consuming and thus, expensive. Due to this fact, automatic sentiment classifiers are selected instead. There are three traditional methods how SA can be classified: lexicon-based method, machine learning-based method and hybrid methods, which is mixing the two former methods.\n",
    "\n",
    "Although traditional machine learning algorithms like Support Vector Machines have shown good performance in various NLP tasks for the past few decades, they have a few shortcomings, where DL models have the potential to overcome these limitations to a large extent. \n",
    "A promising alternative to traditional machine learning based methods is Deep Learning (DL). It has shown excellent performance in NLP tasks, including Sentiment Analysis (Collobert, Weston, Bottou, Karlen, Kavukcuglu & Kuksa, 2011). The main idea of DL is to learn complex features extracted from data using deep neural networks with a minimum of external human contribution."
   ]
  },
  {
   "cell_type": "markdown",
   "id": "0ff969c0",
   "metadata": {},
   "source": [
    "#### Sentiment Analysis: Definition & Classification\n",
    "\n",
    "Sentiment Analysis, also known as opinion mining or sentiment polarity, is an active research area in NLP that refers to the use of text analysis, statistical learning and often Machine Learning to extract subjective information in source materials such as user-generated texts from social networks, blogs, forums and product or service reviews.\n",
    "Selecting the basic emotions is a difficult task for a computer because of the variety of human emotions. Most of the authors in the NLP community agree on the classification proposed by Ekman, Friesen and Ellsworth (1982), who mentioned that six basic emotions exist: anger, disgust, fear, joy, sadness and surprise. Such a division requires a complex processing and analysis of the input data, which is most of the time not feasible. Therefore, the majority of researchers and authors accept a simpler representation of sentiments according to their polarity (Pang & Lee, 2008). Kurosu (2015) defines sentiment polarity as follows: “The polarity of a sentiment is the point on the evaluation scale that corresponds to our positive or negative evaluation of the meaning of this sentiment.”. Sentiment polarity allows researchers to use a single dimension, either positive or negative and therefore, simplifies the representation and management of the sentiment information.\n",
    "Liu (2012) presented three levels of SA: (i) document level, (ii) sentence level and (iii) entity / aspect level. Document level studies the polarity of the whole text with respect to a single entity (e.g. a product). Sentence level studies the polarity of sentences, analyzing clauses and phrases for its sentiment. Entity / aspect level analyzes what people especially liked or disliked. An entity-aspect might be a single token and its polarity might be different from the overall polarity of the text (Liu, 2012).\n",
    "The granularity of SA can be either coarse-grained or fine-grained. Coarse-grained means usually a binary classification (positive, negative). On ther other hand, fine-grained uses for example five possible levels of granularity (high positive, low positive, neutral, low negative, high negative).\n",
    "\n",
    "Application:\n",
    "\n",
    "- product reviews,\n",
    "- customer e-mails about a product or service,\n",
    "- people’s reaction on Twitter about an advertising, a campaign, a product release, etc.,\n",
    "- blogs / news articles about recent topics, e.g. the presidential election.\n",
    "\n",
    "Classification:\n",
    "\n",
    "All methods used to solve sentiment classification fall into three main categories: lexicon- based, machine learning-based and hybrid approaches.\n",
    "In knowledge-based approaches, also called lexicon-based approaches, sentiment is seen as a function of keywords and usually, is based on their count. The main task is the construction of sentiment word lexicons with the indicated class labels positive or negative. In some cases also with their intensiveness, which becomes important for a fine-grained classification.\n",
    "An alternative to the knowledge-based method is Machine Learning, which is gaining more and more interest of researchers due to its adaptability and higher accuracy. Currently, Machine Learning methods are the dominant approach in SA (Pang et al., 2002). The three main algorithms are Naïve Bayes (NB), Support Vector Machines (SVM) and Maximum Entropy (MaxEnt, in Statistics called: Logisitic Regression).\n",
    "The hybrid approach, also known as combined analysis, combines both knowledge-based and machine learning-based methods and thus, can lead to a superior performance. Researchers were attracted to explore the possibility of a hybrid approach that collectively could exhibit the accuracy of a machine learning approach and the speed of a lexical approach.\n",
    "\n",
    "Transformer???"
   ]
  },
  {
   "cell_type": "markdown",
   "id": "c5159d44-5fe5-440b-b8b6-6d5e6333fb21",
   "metadata": {},
   "source": [
    "### Research Overview\n",
    "\n",
    "- brief historical overview\n",
    "- research/literature streams and focus\n",
    "- what is the state-of-the-art research towards 2022"
   ]
  },
  {
   "cell_type": "markdown",
   "id": "272a0201-fbb9-44cd-ac9a-67eb823d6835",
   "metadata": {},
   "source": [
    "### Classifier Benchmarking\n",
    "\n",
    "Benchmarking classifiers using community data sets\n",
    "\n",
    "- introduce data sets, justify choice\n",
    "    - social media texts from twitter (about several domains)\n",
    "    - user reviews from IMDB, Rotten Tomatoes (about movies)\n",
    "- compare classifiers\n",
    "    - baseline model (Traditional ML): \n",
    "    Logistic Regression on TFIDF-based (LASSO) (movie reviews?)\n",
    "    SVM (Twitter?)\n",
    "    - Deep Learning: Hierarchical Attention Network (HAN) / LSTM/CNN/ULMFIT ELMO\n",
    "    - Transformer Model: BERT oder  XLNet: Generalized Autoregressive Pretraining for Language Understanding, albert"
   ]
  },
  {
   "cell_type": "markdown",
   "id": "6b8164b2-5f7a-4d1a-929b-d7f32990115c",
   "metadata": {},
   "source": [
    "### Results\n",
    "\n",
    "- benchmark ranking of classifiers on different datasets"
   ]
  },
  {
   "cell_type": "markdown",
   "id": "0c39d02f-9855-4f7c-9a9c-d97ebb32394c",
   "metadata": {},
   "source": [
    "### Conclusion\n",
    "- valuable insights on method selection\n"
   ]
  }
 ],
 "metadata": {
  "kernelspec": {
   "display_name": "Python 3",
   "language": "python",
   "name": "python3"
  },
  "language_info": {
   "codemirror_mode": {
    "name": "ipython",
    "version": 3
   },
   "file_extension": ".py",
   "mimetype": "text/x-python",
   "name": "python",
   "nbconvert_exporter": "python",
   "pygments_lexer": "ipython3",
   "version": "3.8.8"
  }
 },
 "nbformat": 4,
 "nbformat_minor": 5
}
