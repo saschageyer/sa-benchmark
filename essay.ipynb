{
 "cells": [
  {
   "cell_type": "markdown",
   "id": "27fa68ae-687b-4082-bb3d-6ab26b0c2d5b",
   "metadata": {},
   "source": [
    "## Sentiment Analysis: benchmarking state-of-the-art classifiers"
   ]
  },
  {
   "cell_type": "markdown",
   "id": "a171b2ae-0f7f-4590-a943-300e1aabbbd6",
   "metadata": {},
   "source": [
    "### Introduction\n",
    "\n",
    "What is Sentiment Analysis?\n",
    "- NLP frame, one of many NLP tasks\n",
    "- Definition: extract subjective information to determine polarity\n",
    "- areas of application (e. g. user generated content)\n",
    "- research timeline for SA/ deep learning in NLP (starting 2010s)"
   ]
  },
  {
   "cell_type": "markdown",
   "id": "c5159d44-5fe5-440b-b8b6-6d5e6333fb21",
   "metadata": {},
   "source": [
    "### Research Overview\n",
    "\n",
    "- brief historical overview\n",
    "- research/literature streams and focus\n",
    "- what is the state-of-the-art research towards 2022"
   ]
  },
  {
   "cell_type": "markdown",
   "id": "272a0201-fbb9-44cd-ac9a-67eb823d6835",
   "metadata": {},
   "source": [
    "### Classifier Benchmarking\n",
    "\n",
    "- Benchmarking classifiers using community data sets\n",
    "- introduce data sets, justify choice\n",
    "- compare classifiers"
   ]
  },
  {
   "cell_type": "markdown",
   "id": "6b8164b2-5f7a-4d1a-929b-d7f32990115c",
   "metadata": {},
   "source": [
    "### Results\n",
    "\n",
    "- benchmark ranking of classifiers on different datasets"
   ]
  },
  {
   "cell_type": "markdown",
   "id": "0c39d02f-9855-4f7c-9a9c-d97ebb32394c",
   "metadata": {},
   "source": [
    "### Conclusion\n",
    "- valuable insights on method selection\n"
   ]
  }
 ],
 "metadata": {
  "kernelspec": {
   "display_name": "Python 3 (ipykernel)",
   "language": "python",
   "name": "python3"
  },
  "language_info": {
   "codemirror_mode": {
    "name": "ipython",
    "version": 3
   },
   "file_extension": ".py",
   "mimetype": "text/x-python",
   "name": "python",
   "nbconvert_exporter": "python",
   "pygments_lexer": "ipython3",
   "version": "3.8.8"
  }
 },
 "nbformat": 4,
 "nbformat_minor": 5
}
